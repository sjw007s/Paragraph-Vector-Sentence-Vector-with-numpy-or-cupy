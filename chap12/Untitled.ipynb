{
 "cells": [
  {
   "cell_type": "code",
   "execution_count": 3,
   "metadata": {},
   "outputs": [
    {
     "name": "stdout",
     "output_type": "stream",
     "text": [
      "514229 1346269\n",
      "         1664145 function calls (67 primitive calls) in 0.274 seconds\n",
      "\n",
      "   Ordered by: standard name\n",
      "\n",
      "   ncalls  tottime  percall  cumtime  percall filename:lineno(function)\n",
      "        1    0.000    0.000    0.000    0.000 <ipython-input-3-c5ec6f4b3a88>:11(Fibonacci_Repeat)\n",
      "        1    0.000    0.000    0.274    0.274 <ipython-input-3-c5ec6f4b3a88>:29(TEST)\n",
      "1664079/1    0.274    0.000    0.274    0.274 <ipython-input-3-c5ec6f4b3a88>:3(Fibonacci_Recursion)\n",
      "        1    0.000    0.000    0.274    0.274 <string>:1(<module>)\n",
      "        5    0.000    0.000    0.000    0.000 iostream.py:197(schedule)\n",
      "        4    0.000    0.000    0.000    0.000 iostream.py:309(_is_master_process)\n",
      "        4    0.000    0.000    0.000    0.000 iostream.py:322(_schedule_flush)\n",
      "        4    0.000    0.000    0.000    0.000 iostream.py:384(write)\n",
      "        5    0.000    0.000    0.000    0.000 iostream.py:93(_event_pipe)\n",
      "        5    0.000    0.000    0.000    0.000 socket.py:342(send)\n",
      "        5    0.000    0.000    0.000    0.000 threading.py:1050(_wait_for_tstate_lock)\n",
      "        5    0.000    0.000    0.000    0.000 threading.py:1092(is_alive)\n",
      "        5    0.000    0.000    0.000    0.000 threading.py:507(is_set)\n",
      "        1    0.000    0.000    0.274    0.274 {built-in method builtins.exec}\n",
      "        4    0.000    0.000    0.000    0.000 {built-in method builtins.isinstance}\n",
      "        1    0.000    0.000    0.000    0.000 {built-in method builtins.print}\n",
      "        4    0.000    0.000    0.000    0.000 {built-in method nt.getpid}\n",
      "        5    0.000    0.000    0.000    0.000 {method 'acquire' of '_thread.lock' objects}\n",
      "        5    0.000    0.000    0.000    0.000 {method 'append' of 'collections.deque' objects}\n",
      "        1    0.000    0.000    0.000    0.000 {method 'disable' of '_lsprof.Profiler' objects}\n",
      "\n",
      "\n"
     ]
    }
   ],
   "source": [
    "import cProfile\n",
    " \n",
    "def Fibonacci_Recursion(val):\n",
    "    if (val == 1):\n",
    "        return 0\n",
    "    elif (val == 2):\n",
    "        return 1\n",
    "    else:\n",
    "        return Fibonacci_Recursion(val - 1) + Fibonacci_Recursion(val - 2)\n",
    "    \n",
    "def Fibonacci_Repeat(val):\n",
    "    val_1 = 0\n",
    "    val_2 = 1\n",
    "    val_3 = 0\n",
    "    temp  = 0\n",
    " \n",
    "    if (val == 0):\n",
    "        return 0\n",
    "    elif (val == 1):\n",
    "        return 1\n",
    "    else:\n",
    "        for i in range (0, val):\n",
    "            temp = val_2\n",
    "            val_2 = val_1 + val_2\n",
    "            val_1 = temp\n",
    " \n",
    "        return val_2\n",
    " \n",
    "def TEST():\n",
    "    recursion = 0\n",
    "    repeat = 0\n",
    " \n",
    "    recursion = Fibonacci_Recursion(30)\n",
    "    repeat = Fibonacci_Repeat(30)\n",
    " \n",
    "    print(recursion, repeat)\n",
    " \n",
    "if __name__ == \"__main__\":\n",
    "    cProfile.run(\"TEST()\")\n",
    "    #TEST()"
   ]
  },
  {
   "cell_type": "code",
   "execution_count": 1,
   "metadata": {},
   "outputs": [
    {
     "ename": "AttributeError",
     "evalue": "'cupy.core.core.ndarray' object has no attribute 'append'",
     "output_type": "error",
     "traceback": [
      "\u001b[1;31m---------------------------------------------------------------------------\u001b[0m",
      "\u001b[1;31mAttributeError\u001b[0m                            Traceback (most recent call last)",
      "\u001b[1;32m<ipython-input-1-ba701dc79e75>\u001b[0m in \u001b[0;36m<module>\u001b[1;34m\u001b[0m\n\u001b[0;32m      3\u001b[0m \u001b[0ma_\u001b[0m\u001b[1;33m=\u001b[0m\u001b[0mnp\u001b[0m\u001b[1;33m.\u001b[0m\u001b[0marray\u001b[0m\u001b[1;33m(\u001b[0m\u001b[1;33m[\u001b[0m\u001b[1;33m]\u001b[0m\u001b[1;33m)\u001b[0m\u001b[1;33m\u001b[0m\u001b[1;33m\u001b[0m\u001b[0m\n\u001b[0;32m      4\u001b[0m \u001b[0mb_\u001b[0m\u001b[1;33m=\u001b[0m\u001b[0mnp\u001b[0m\u001b[1;33m.\u001b[0m\u001b[0marray\u001b[0m\u001b[1;33m(\u001b[0m\u001b[1;33m[\u001b[0m\u001b[1;36m1\u001b[0m\u001b[1;33m,\u001b[0m\u001b[1;36m2\u001b[0m\u001b[1;33m]\u001b[0m\u001b[1;33m)\u001b[0m\u001b[1;33m\u001b[0m\u001b[1;33m\u001b[0m\u001b[0m\n\u001b[1;32m----> 5\u001b[1;33m \u001b[0mprint\u001b[0m\u001b[1;33m(\u001b[0m\u001b[0ma_\u001b[0m\u001b[1;33m,\u001b[0m\u001b[0ma_\u001b[0m\u001b[1;33m.\u001b[0m\u001b[0mappend\u001b[0m\u001b[1;33m(\u001b[0m\u001b[0mb_\u001b[0m\u001b[1;33m)\u001b[0m\u001b[1;33m)\u001b[0m\u001b[1;33m\u001b[0m\u001b[1;33m\u001b[0m\u001b[0m\n\u001b[0m",
      "\u001b[1;31mAttributeError\u001b[0m: 'cupy.core.core.ndarray' object has no attribute 'append'"
     ]
    }
   ],
   "source": [
    "import cupy as np\n",
    "\n",
    "a_=np.array([])\n",
    "b_=np.array([1,2])\n",
    "print(a_,a_.append(b_))"
   ]
  }
 ],
 "metadata": {
  "kernelspec": {
   "display_name": "Python 3",
   "language": "python",
   "name": "python3"
  },
  "language_info": {
   "codemirror_mode": {
    "name": "ipython",
    "version": 3
   },
   "file_extension": ".py",
   "mimetype": "text/x-python",
   "name": "python",
   "nbconvert_exporter": "python",
   "pygments_lexer": "ipython3",
   "version": "3.7.4"
  }
 },
 "nbformat": 4,
 "nbformat_minor": 2
}
